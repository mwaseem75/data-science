{
 "cells": [
  {
   "cell_type": "markdown",
   "id": "c8ba1208-aa8c-46da-a8ee-92a6b4318742",
   "metadata": {},
   "source": [
    "# Data Science Tools and Ecosystem"
   ]
  },
  {
   "cell_type": "markdown",
   "id": "e7c094c3-f246-45f5-8577-8a6c8c4e891e",
   "metadata": {},
   "source": [
    "## Author\n",
    "Johannes Berger"
   ]
  },
  {
   "cell_type": "markdown",
   "id": "e28c0426-537c-42ad-8a1e-2b1208372964",
   "metadata": {},
   "source": [
    "In this notebook, Data Science Tools and Ecosystems are summarized."
   ]
  },
  {
   "cell_type": "markdown",
   "id": "d02fa1ca-ecd6-4bec-83cb-9eec49ef5c16",
   "metadata": {},
   "source": [
    "**Objectives:**\n",
    "* list popular languages for data science\n",
    "* list commonly used libraries for data science\n",
    "* list some open source development environments for data science\n",
    "* do some simple arithmetic\n",
    "* convert minutes to hours"
   ]
  },
  {
   "cell_type": "markdown",
   "id": "4389f08c-4273-42ae-b0e9-a669e97e3145",
   "metadata": {},
   "source": [
    "Some of the popular languages that Data Scientists use are:\n",
    "1. Python\n",
    "2. R\n",
    "3. Scala\n",
    "4. SQL\n",
    "5. Ruby\n",
    "6. Java"
   ]
  },
  {
   "cell_type": "markdown",
   "id": "3dee179f-a744-4b8d-90ab-74cc843b6f0e",
   "metadata": {},
   "source": [
    "Some of the commonly used libraries used by Data Scientists include:\n",
    "1. numpy\n",
    "2. scipy\n",
    "3. pyTorch\n",
    "4. TensorFlow\n",
    "5. matPlotLib\n",
    "6. Pandas"
   ]
  },
  {
   "cell_type": "markdown",
   "id": "cc8e624d-8ef2-46af-b832-4436e8f18ea6",
   "metadata": {},
   "source": [
    "|Data Science Tools|\n",
    "| - |\n",
    "| JupyterLab |\n",
    "| RStudio |\n",
    "| Eclipse |"
   ]
  },
  {
   "cell_type": "markdown",
   "id": "b691e45e-c4df-4031-b596-0ecd7edfd99e",
   "metadata": {},
   "source": [
    "### Below are a few examples of evaluating arithmetic expressions in Python."
   ]
  },
  {
   "cell_type": "code",
   "execution_count": 3,
   "id": "11d1906f-57e6-4e2c-8b3a-20991a187ac4",
   "metadata": {},
   "outputs": [
    {
     "data": {
      "text/plain": [
       "17"
      ]
     },
     "execution_count": 3,
     "metadata": {},
     "output_type": "execute_result"
    }
   ],
   "source": [
    " # This a simple arithmetic expression to mutiply then add integers\n",
    "(3*4)+5"
   ]
  },
  {
   "cell_type": "code",
   "execution_count": 6,
   "id": "08c1370a-10c1-4b2e-b98d-2a2af5195771",
   "metadata": {},
   "outputs": [
    {
     "name": "stdout",
     "output_type": "stream",
     "text": [
      "200 minutes equals 3 hours and  20 minutes.\n"
     ]
    }
   ],
   "source": [
    "# This will convert 200 minutes to 3 hours and 20 minutes, \n",
    "# using simple Python integer division.\n",
    "print(\"200 minutes equals\", 200//60, \"hours and \", \\\n",
    "      200 - 60 * (200//60), \"minutes.\")"
   ]
  },
  {
   "cell_type": "code",
   "execution_count": null,
   "id": "16f72086-ee87-4916-b130-d7390dee0d69",
   "metadata": {},
   "outputs": [],
   "source": []
  }
 ],
 "metadata": {
  "kernelspec": {
   "display_name": "Python",
   "language": "python",
   "name": "conda-env-python-py"
  },
  "language_info": {
   "codemirror_mode": {
    "name": "ipython",
    "version": 3
   },
   "file_extension": ".py",
   "mimetype": "text/x-python",
   "name": "python",
   "nbconvert_exporter": "python",
   "pygments_lexer": "ipython3",
   "version": "3.7.12"
  }
 },
 "nbformat": 4,
 "nbformat_minor": 5
}
