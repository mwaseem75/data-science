{
 "cells": [
  {
   "cell_type": "markdown",
   "metadata": {},
   "source": [
    "# My Jupyter Notebook on IBM Watson Studio"
   ]
  },
  {
   "cell_type": "markdown",
   "metadata": {},
   "source": [
    "**Johannes Berger**\n",
    "\n",
    "Mathematician"
   ]
  },
  {
   "cell_type": "markdown",
   "metadata": {},
   "source": [
    "*I am currently working as a mathematician, but am interested in leaving academia, and instead pursuing a career in which I get to program and work with computers. Data science seems the way to go. I hope to build my skills, to ultimately secure a job working either with renewable energies or in humanitarian aid, or something similar*"
   ]
  },
  {
   "cell_type": "markdown",
   "metadata": {},
   "source": [
    "### I write a function that returns the sum of 1 to n, for given n, and print some values"
   ]
  },
  {
   "cell_type": "code",
   "execution_count": 7,
   "metadata": {},
   "outputs": [
    {
     "name": "stdout",
     "output_type": "stream",
     "text": [
      "The sums of numbers from 1 to n for n  between 1 and 10 are [1, 3, 6, 10, 15, 21, 28, 36, 45, 55]\n"
     ]
    }
   ],
   "source": [
    "def sumNumbers(n):\n",
    "    return sum(range(n+1))\n",
    "\n",
    "print(\"The sums of numbers from 1 to n for n\\\n",
    "  from 1 and 10 are\", [sumNumbers(i) for i in range(1, 11)])"
   ]
  },
  {
   "cell_type": "markdown",
   "metadata": {},
   "source": [
    "* ~This sentence is false~\n",
    "* In fact, this sentence is true\n",
    "\n",
    "| OR | T | F |\n",
    "| - | - | - |\n",
    "| T | T | T |\n",
    "| F | T | F |"
   ]
  }
 ],
 "metadata": {
  "kernelspec": {
   "display_name": "Python",
   "language": "python",
   "name": "conda-env-python-py"
  },
  "language_info": {
   "codemirror_mode": {
    "name": "ipython",
    "version": 3
   },
   "file_extension": ".py",
   "mimetype": "text/x-python",
   "name": "python",
   "nbconvert_exporter": "python",
   "pygments_lexer": "ipython3",
   "version": "3.7.12"
  }
 },
 "nbformat": 4,
 "nbformat_minor": 4
}
